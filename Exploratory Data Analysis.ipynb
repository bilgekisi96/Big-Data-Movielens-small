{
 "cells": [
  {
   "cell_type": "code",
   "execution_count": 1,
   "id": "a0cb9f43",
   "metadata": {},
   "outputs": [],
   "source": [
    "import sqlite3,sys                                     #imported to modules\n",
    "import os.path\n",
    "import matplotlib.pyplot as plt\n",
    "import seaborn as sns"
   ]
  },
  {
   "cell_type": "code",
   "execution_count": 2,
   "id": "743b6139",
   "metadata": {},
   "outputs": [],
   "source": [
    "def create_db_connection(dbfile):                     #this function is creating to connection with database \n",
    "    connection = None\n",
    "    try:\n",
    "        connection = sqlite3.connect(dbfile)\n",
    "        print(\"Database Connection Successfully!!\")\n",
    "        return connection\n",
    "    except Error as err:\n",
    "        print(f\"Error Database connection failed !!!!: '{err}'\")"
   ]
  },
  {
   "cell_type": "code",
   "execution_count": 3,
   "id": "14e1f9a1",
   "metadata": {},
   "outputs": [],
   "source": [
    "def execute_query(connection,query):                 #this function is execution for queries\n",
    "    cursor = connection.cursor()\n",
    "    try:\n",
    "        quer=cursor.execute(query)\n",
    "        print(\"query was succesfully!!\")\n",
    "        connection.commit()\n",
    "        return quer\n",
    "    except Error as err:\n",
    "        print(f\"Error query does not work:{err}\")"
   ]
  },
  {
   "cell_type": "code",
   "execution_count": 4,
   "id": "11ff4739",
   "metadata": {},
   "outputs": [
    {
     "name": "stdout",
     "output_type": "stream",
     "text": [
      "Database Connection Successfully!!\n"
     ]
    }
   ],
   "source": [
    "connect=create_db_connection(\"movielens-small.db\")"
   ]
  },
  {
   "cell_type": "code",
   "execution_count": 5,
   "id": "14b3fd15",
   "metadata": {},
   "outputs": [
    {
     "name": "stdout",
     "output_type": "stream",
     "text": [
      "query was succesfully!!\n",
      "Table Name: ('movies',)\n",
      "Table Name: ('ratings',)\n",
      "Table Name: ('links',)\n",
      "Table Name: ('tags',)\n"
     ]
    }
   ],
   "source": [
    "query = \"SELECT name FROM sqlite_master WHERE type = 'table'\"  #Table names in database There are 4 table in database \n",
    "result=execute_query(connect,query)\n",
    "table_names=[]\n",
    "for i in result:\n",
    "    print(\"Table Name:\",i)\n",
    "    table_names.append(i[0])"
   ]
  },
  {
   "cell_type": "code",
   "execution_count": 6,
   "id": "afe3f880",
   "metadata": {},
   "outputs": [
    {
     "name": "stdout",
     "output_type": "stream",
     "text": [
      "query was succesfully!!\n",
      "movies Table Row Number --> 8570 \n",
      "query was succesfully!!\n",
      "ratings Table Row Number --> 100023 \n",
      "query was succesfully!!\n",
      "links Table Row Number --> 8570 \n",
      "query was succesfully!!\n",
      "tags Table Row Number --> 2488 \n"
     ]
    },
    {
     "data": {
      "image/png": "[encoded data removed]",
      "text/plain": [
       "<Figure size 576x576 with 1 Axes>"
      ]
     },
     "metadata": {},
     "output_type": "display_data"
    }
   ],
   "source": [
    "plt.figure(figsize=(8,8))\n",
    "nums,labels=[],[]\n",
    "for i in table_names:                                            #Tables row numbers\n",
    "    query=\"SELECT * FROM {cha}\".format(cha=i)\n",
    "    result=execute_query(connect,query) \n",
    "    rownum=len([j for j in result])\n",
    "    print(\"{table} Table Row Number --> {num} \".format(table=i,num=rownum))\n",
    "    nums.append(rownum)\n",
    "    labels.append(i)\n",
    "#define Seaborn color palette to use\n",
    "colors = sns.color_palette('pastel')[0:5]\n",
    "plt.title(\"TABLES ROW NUMBERS\")\n",
    "plt.pie(nums, labels = labels, colors = colors, autopct='%.0f%%')\n",
    "plt.show()"
   ]
  },
  {
   "cell_type": "code",
   "execution_count": 7,
   "id": "b2bd9319",
   "metadata": {},
   "outputs": [
    {
     "name": "stdout",
     "output_type": "stream",
     "text": [
      "query was succesfully!!\n",
      "['There are not NULL value in table']\n",
      "query was succesfully!!\n",
      "['There are not NULL value in table']\n",
      "query was succesfully!!\n",
      "['There are not NULL value in table']\n",
      "query was succesfully!!\n",
      "['There are not NULL value in table']\n"
     ]
    }
   ],
   "source": [
    "for i in table_names:                                            #Check to Null values in Tables \n",
    "    query=\"SELECT * FROM {cha}\".format(cha=i)\n",
    "    result=execute_query(connect,query) \n",
    "    print([\"There are Null\" if False in [False if (j==\"NULL\" or j==None) else True for j in result for k in j] else \"There are not NULL value in table\"])\n",
    "    "
   ]
  },
  {
   "cell_type": "code",
   "execution_count": 8,
   "id": "4a26ca90",
   "metadata": {},
   "outputs": [
    {
     "name": "stdout",
     "output_type": "stream",
     "text": [
      "query was succesfully!!\n",
      "movies table unique features--> 8570\n",
      "query was succesfully!!\n",
      "ratings table unique features--> 8552\n",
      "query was succesfully!!\n",
      "links table unique features--> 8570\n",
      "query was succesfully!!\n",
      "tags table unique features--> 672\n"
     ]
    }
   ],
   "source": [
    "for i in table_names:                                                                             \n",
    "    query=\"SELECT COUNT(DISTINCT movieId) FROM {cha}\".format(cha=i)                              \n",
    "    result=execute_query(connect,query)                                                          #Checking unique movieIDs in\n",
    "    print(\"{name} table unique features--> {result}\".format(name=i,result=tuple(result)[0][0]))  #tables"
   ]
  },
  {
   "cell_type": "code",
   "execution_count": 9,
   "id": "036e7348",
   "metadata": {},
   "outputs": [
    {
     "name": "stdout",
     "output_type": "stream",
     "text": [
      "query was succesfully!!\n",
      "100023\n"
     ]
    }
   ],
   "source": [
    "query = \"SELECT COUNT(*) FROM movies b INNER JOIN ratings a ON a.movieId = b.movieId\"\n",
    "result=execute_query(connect,query)                                                    #row number after inner join \n",
    "print(tuple(result)[0][0])                                                             #I setup relation to tables on movieId's"
   ]
  },
  {
   "cell_type": "code",
   "execution_count": 10,
   "id": "938dfe29",
   "metadata": {},
   "outputs": [
    {
     "name": "stdout",
     "output_type": "stream",
     "text": [
      "query was succesfully!!\n"
     ]
    },
    {
     "data": {
      "text/plain": [
       "{'genres', 'movieId', 'rating', 'timestamp', 'title', 'userId', 'year'}"
      ]
     },
     "execution_count": 10,
     "metadata": {},
     "output_type": "execute_result"
    }
   ],
   "source": [
    "query = \"SELECT * FROM movies b INNER JOIN ratings a ON a.movieId = b.movieId\"    #I made INNER JOIN for arrive to genres colunm\n",
    "result=execute_query(connect,query)                                               #columns names between two tables  \n",
    "set([i[0] for i in result.description])"
   ]
  },
  {
   "cell_type": "code",
   "execution_count": 11,
   "id": "7fc4c0cc",
   "metadata": {},
   "outputs": [
    {
     "name": "stdout",
     "output_type": "stream",
     "text": [
      "query was succesfully!!\n",
      "(7, 1, 5.0, 'Adventure|Animation|Children|Comedy|Fantasy')\n",
      "(10, 1, 4.0, 'Adventure|Animation|Children|Comedy|Fantasy')\n",
      "(13, 1, 4.5, 'Adventure|Animation|Children|Comedy|Fantasy')\n",
      "(16, 1, 5.0, 'Adventure|Animation|Children|Comedy|Fantasy')\n",
      "(21, 1, 5.0, 'Adventure|Animation|Children|Comedy|Fantasy')\n"
     ]
    }
   ],
   "source": [
    "query = \"SELECT a.userId,a.movieId,a.rating,b.genres FROM movies b INNER JOIN ratings a ON a.movieId = b.movieId LIMIT 5\"\n",
    "result=execute_query(connect,query)                                               # userıd movieıd rating and genres dataframe \n",
    "for i in result:print(i)"
   ]
  },
  {
   "cell_type": "markdown",
   "id": "9d5f6433",
   "metadata": {},
   "source": [
    "### Missing values between two table movies and ratings"
   ]
  },
  {
   "cell_type": "code",
   "execution_count": 12,
   "id": "23484d38",
   "metadata": {},
   "outputs": [
    {
     "name": "stdout",
     "output_type": "stream",
     "text": [
      "query was succesfully!!\n",
      "(133, None, None, None, None)\n",
      "(654, None, None, None, None)\n",
      "(2499, None, None, None, None)\n",
      "(6328, None, None, None, None)\n",
      "(7541, None, None, None, None)\n",
      "(8574, None, None, None, None)\n",
      "(8765, None, None, None, None)\n",
      "(31408, None, None, None, None)\n",
      "(31687, None, None, None, None)\n",
      "(33340, None, None, None, None)\n",
      "(49422, None, None, None, None)\n",
      "(54248, None, None, None, None)\n",
      "(59549, None, None, None, None)\n",
      "(60020, None, None, None, None)\n",
      "(60382, None, None, None, None)\n",
      "(68486, None, None, None, None)\n",
      "(70695, None, None, None, None)\n",
      "(86487, None, None, None, None)\n"
     ]
    }
   ],
   "source": [
    "query = \"SELECT a.movieId,b.movieId,b.userId,b.rating,b.timestamp FROM movies a LEFT JOIN ratings b ON b.movieId = a.movieId WHERE b.rating IS NULL ; \"\n",
    "result=execute_query(connect,query)                   #There are 18 NULL values between movies and ratings \n",
    "for i in result:print(i)                              #This values there are in movies table but there arent in ratings table "
   ]
  },
  {
   "cell_type": "code",
   "execution_count": 13,
   "id": "7e1ce901",
   "metadata": {},
   "outputs": [
    {
     "name": "stdout",
     "output_type": "stream",
     "text": [
      "query was succesfully!!\n",
      "(1, 'Toy Story', 1995, '0114709', '862', 7, 5.0, 835583333, 'Adventure')\n",
      "(1, 'Toy Story', 1995, '0114709', '862', 10, 4.0, 1113487849, 'Adventure')\n",
      "(1, 'Toy Story', 1995, '0114709', '862', 13, 4.5, 1275864236, 'Adventure')\n",
      "(1, 'Toy Story', 1995, '0114709', '862', 16, 5.0, 855198755, 'Adventure')\n",
      "(1, 'Toy Story', 1995, '0114709', '862', 21, 5.0, 865106839, 'Adventure')\n"
     ]
    }
   ],
   "source": [
    "query = \"SELECT movieId,title,year,imdbId,tmdbId,userId,rating,timestamp,SUBSTR(genre,1,INSTR(genre,'|') - 1) as genres FROM (SELECT movieId,title,year,SUBSTR(genres, 1 , 10 ) as genre,imdbId,tmdbId,userId,rating,timestamp FROM (SELECT a.movieId,a.title,a.year,a.genres,b.imdbId,b.tmdbId,c.userId,c.rating,c.timestamp FROM movies a INNER JOIN links b ON a.movieId = b.movieId INNER JOIN ratings c ON b.movieId = c.movieId)) LIMIT 5;\"\n",
    "result=execute_query(connect,query)                                                # I look and prepare values\n",
    "for i in result:print(i)                                                           "
   ]
  },
  {
   "cell_type": "markdown",
   "id": "317eedf3",
   "metadata": {},
   "source": [
    "### 1.Question : Write a SQL query to create a dataframe with including userid, movieid, genre and rating"
   ]
  },
  {
   "cell_type": "code",
   "execution_count": 14,
   "id": "c1c1d6dc",
   "metadata": {},
   "outputs": [
    {
     "name": "stdout",
     "output_type": "stream",
     "text": [
      "query was succesfully!!\n",
      "(7, 1, 5.0, 'Adventure|Animation|Children|Comedy|Fantasy')\n",
      "(10, 1, 4.0, 'Adventure|Animation|Children|Comedy|Fantasy')\n",
      "(13, 1, 4.5, 'Adventure|Animation|Children|Comedy|Fantasy')\n",
      "(16, 1, 5.0, 'Adventure|Animation|Children|Comedy|Fantasy')\n",
      "(21, 1, 5.0, 'Adventure|Animation|Children|Comedy|Fantasy')\n"
     ]
    }
   ],
   "source": [
    "query = \"SELECT a.userId,a.movieId,a.rating,b.genres FROM movies b INNER JOIN ratings a ON a.movieId = b.movieId INNER JOIN links c ON a.movieId = c.movieId LIMIT 5\"\n",
    "result=execute_query(connect,query)   # userıd movieıd rating and genres dataframe \n",
    "for i in result:print(i)"
   ]
  },
  {
   "cell_type": "markdown",
   "id": "3f46e543",
   "metadata": {},
   "source": [
    "### 2.Question : Count ratings for each movie, and list top 5 movies with the highest value"
   ]
  },
  {
   "cell_type": "code",
   "execution_count": 15,
   "id": "1a858260",
   "metadata": {},
   "outputs": [
    {
     "name": "stdout",
     "output_type": "stream",
     "text": [
      "query was succesfully!!\n",
      "(337, 'Silence of the Lambs, The')\n",
      "(328, 'Shawshank Redemption, The')\n",
      "(327, 'Pulp Fiction')\n",
      "(324, 'Jurassic Park')\n",
      "(318, 'Forrest Gump')\n"
     ]
    }
   ],
   "source": [
    "query = \"SELECT COUNT(rating) as terra,title FROM (SELECT * FROM movies b INNER JOIN ratings a ON a.movieId = b.movieId) GROUP BY title ORDER BY terra DESC LIMIT 5;\"\n",
    "result=execute_query(connect,query)\n",
    "for i in result:print(i)"
   ]
  },
  {
   "cell_type": "markdown",
   "id": "0f8c6bac",
   "metadata": {},
   "source": [
    "## 3.Question: Find and list top 5 most rated genres"
   ]
  },
  {
   "cell_type": "code",
   "execution_count": 19,
   "id": "80a8a6db",
   "metadata": {},
   "outputs": [
    {
     "name": "stdout",
     "output_type": "stream",
     "text": [
      "query was succesfully!!\n",
      "(7008, 'Drama')\n",
      "(6396, 'Comedy')\n",
      "(3877, 'Comedy|Romance')\n",
      "(3121, 'Drama|Romance')\n",
      "(3000, 'Comedy|Drama')\n"
     ]
    }
   ],
   "source": [
    "query = \"SELECT COUNT(rating) as terra,genres FROM (SELECT * FROM movies b INNER JOIN ratings a ON a.movieId = b.movieId INNER JOIN links c ON a.movieId = c.movieId) GROUP BY genres ORDER BY terra DESC LIMIT 5\"\n",
    "result=execute_query(connect,query)\n",
    "keys,values=[],[]\n",
    "for i in result:\n",
    "    keys.append(i[0])\n",
    "    values.append(i[1])\n",
    "    print(i)"
   ]
  },
  {
   "cell_type": "code",
   "execution_count": 25,
   "id": "715cde38",
   "metadata": {},
   "outputs": [
    {
     "data": {
      "image/png": "[encoded data removed]",
      "text/plain": [
       "<Figure size 864x432 with 1 Axes>"
      ]
     },
     "metadata": {
      "needs_background": "light"
     },
     "output_type": "display_data"
    }
   ],
   "source": [
    "fig, ax = plt.subplots(figsize=(12,6))\n",
    "\n",
    "bars = ax.bar(values, keys)\n",
    "ax.bar_label(bars)\n",
    "plt.xlabel(\"Genres\")\n",
    "plt.ylabel(\"Number of genres\")\n",
    "plt.title(\" 5 most rated genres\")\n",
    "plt.show()\n"
   ]
  },
  {
   "cell_type": "code",
   "execution_count": null,
   "id": "f9fea91e",
   "metadata": {},
   "outputs": [],
   "source": []
  },
  {
   "cell_type": "code",
   "execution_count": null,
   "id": "dce90a78",
   "metadata": {},
   "outputs": [],
   "source": []
  },
  {
   "cell_type": "code",
   "execution_count": null,
   "id": "10c97f07",
   "metadata": {},
   "outputs": [],
   "source": []
  }
 ],
 "metadata": {
  "kernelspec": {
   "display_name": "Python 3 (ipykernel)",
   "language": "python",
   "name": "python3"
  },
  "language_info": {
   "codemirror_mode": {
    "name": "ipython",
    "version": 3
   },
   "file_extension": ".py",
   "mimetype": "text/x-python",
   "name": "python",
   "nbconvert_exporter": "python",
   "pygments_lexer": "ipython3",
   "version": "3.9.7"
  }
 },
 "nbformat": 4,
 "nbformat_minor": 5
}
