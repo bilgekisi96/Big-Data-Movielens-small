{
  "cells": [
    {
      "cell_type": "code",
      "execution_count": 12,
      "id": "4d24cbe3",
      "metadata": {
        "id": "4d24cbe3"
      },
      "outputs": [],
      "source": [
        "#!pip install pyspark"
      ]
    },
    {
      "cell_type": "code",
      "execution_count": 112,
      "id": "59da43cd",
      "metadata": {
        "id": "59da43cd"
      },
      "outputs": [],
      "source": [
        "from pyspark.sql import SparkSession\n",
        "from pyspark.sql import SQLContext                                            #import to libraries\n",
        "from pyspark.ml.evaluation import RegressionEvaluator\n",
        "from pyspark.ml.tuning import CrossValidator\n",
        "from pyspark.ml.recommendation import ALS\n",
        "from pyspark.sql.functions import udf,col,when\n",
        "import numpy as np\n",
        "from IPython.display import Image\n",
        "from IPython.display import display\n",
        "from IPython.display import clear_output"
      ]
    },
    {
      "cell_type": "code",
      "execution_count": 113,
      "id": "9395f800",
      "metadata": {
        "id": "9395f800"
      },
      "outputs": [],
      "source": [
        "from pyspark.sql import SparkSession\n",
        "spark = SparkSession \\\n",
        "    .builder \\\n",
        "    .appName(\"moive analysis\") \\\n",
        "    .config(\"spark.some.config.option\", \"some-value\") \\\n",
        "    .getOrCreate()                                                              #Evaluating to Spark session"
      ]
    },
    {
      "cell_type": "markdown",
      "source": [
        "### DATA ANALYSIS AND EXPLORATION"
      ],
      "metadata": {
        "id": "wo0ClnC_aCQ_"
      },
      "id": "wo0ClnC_aCQ_"
    },
    {
      "cell_type": "code",
      "execution_count": 114,
      "id": "87b32d42",
      "metadata": {
        "id": "87b32d42"
      },
      "outputs": [],
      "source": [
        "movies_df = spark.read.load(\"movies.txt\", format='csv', header = True)\n",
        "ratings_df = spark.read.load(\"ratings.txt\", format='csv', header = True)        #Taking tables \n",
        "links_df = spark.read.load(\"links.txt\", format='csv', header = True)\n",
        "tags_df = spark.read.load(\"tags.txt\", format='csv', header = True)"
      ]
    },
    {
      "cell_type": "code",
      "execution_count": 115,
      "id": "0eabc069",
      "metadata": {
        "colab": {
          "base_uri": "https://localhost:8080/"
        },
        "id": "0eabc069",
        "outputId": "9b9f37e1-954d-4943-8c86-7da53d50c1df"
      },
      "outputs": [
        {
          "output_type": "stream",
          "name": "stdout",
          "text": [
            "<class 'pyspark.sql.dataframe.DataFrame'>\n"
          ]
        },
        {
          "output_type": "execute_result",
          "data": {
            "text/plain": [
              "8570"
            ]
          },
          "metadata": {},
          "execution_count": 115
        }
      ],
      "source": [
        "print(type(movies_df))                                                          #movies table row count\n",
        "movies_df.count()"
      ]
    },
    {
      "cell_type": "code",
      "execution_count": 116,
      "id": "8aa9e595",
      "metadata": {
        "colab": {
          "base_uri": "https://localhost:8080/",
          "height": 225
        },
        "id": "8aa9e595",
        "outputId": "8d894e40-ee21-45c1-a713-a8a299388c12"
      },
      "outputs": [
        {
          "output_type": "stream",
          "name": "stdout",
          "text": [
            "+-------+--------------------+----+--------------------+\n",
            "|movieId|               title|year|              genres|\n",
            "+-------+--------------------+----+--------------------+\n",
            "|      1|           Toy Story|1995|Adventure|Animati...|\n",
            "|      2|             Jumanji|1995|Adventure|Childre...|\n",
            "|      3|    Grumpier Old Men|1995|      Comedy|Romance|\n",
            "|      4|   Waiting to Exhale|1995|Comedy|Drama|Romance|\n",
            "|      5|Father of the Bri...|1995|              Comedy|\n",
            "+-------+--------------------+----+--------------------+\n",
            "only showing top 5 rows\n",
            "\n"
          ]
        },
        {
          "output_type": "display_data",
          "data": {
            "text/plain": [
              "DataFrame[movieId: string, title: string, year: string, genres: string]"
            ]
          },
          "metadata": {}
        }
      ],
      "source": [
        "movies_df.show(5)                                                               #movies table first 5 rows\n",
        "movies_df.createOrReplaceTempView(\"movies_df\")\n",
        "display (spark.sql(\"SELECT * FROM movies_df limit 5\"))"
      ]
    },
    {
      "cell_type": "code",
      "execution_count": 19,
      "id": "5fcba13e",
      "metadata": {
        "colab": {
          "base_uri": "https://localhost:8080/",
          "height": 225
        },
        "id": "5fcba13e",
        "outputId": "9fb28064-de9d-414e-a01c-82afd91f7bdc"
      },
      "outputs": [
        {
          "output_type": "stream",
          "name": "stdout",
          "text": [
            "+------+-------+------+---------+\n",
            "|userId|movieId|rating|timestamp|\n",
            "+------+-------+------+---------+\n",
            "|     1|      6|   2.0|980730861|\n",
            "|     1|     22|   3.0|980731380|\n",
            "|     1|     32|   2.0|980731926|\n",
            "|     1|     50|   5.0|980732037|\n",
            "|     1|    110|   4.0|980730408|\n",
            "+------+-------+------+---------+\n",
            "only showing top 5 rows\n",
            "\n"
          ]
        },
        {
          "output_type": "display_data",
          "data": {
            "text/plain": [
              "DataFrame[userId: string, movieId: string, rating: string, timestamp: string]"
            ]
          },
          "metadata": {}
        }
      ],
      "source": [
        "ratings_df.show(5)                                                              #ratings table for 5 rows\n",
        "ratings_df.createOrReplaceTempView(\"ratings_df\")\n",
        "display (spark.sql(\"SELECT * FROM ratings_df limit 5\"))"
      ]
    },
    {
      "cell_type": "code",
      "execution_count": 20,
      "id": "30de1a9a",
      "metadata": {
        "colab": {
          "base_uri": "https://localhost:8080/",
          "height": 225
        },
        "id": "30de1a9a",
        "outputId": "e7693fb8-e76c-4615-8929-fc81c119ee91"
      },
      "outputs": [
        {
          "output_type": "stream",
          "name": "stdout",
          "text": [
            "+-------+-------+------+\n",
            "|movieId| imdbId|tmdbId|\n",
            "+-------+-------+------+\n",
            "|      1|0114709|   862|\n",
            "|      2|0113497|  8844|\n",
            "|      3|0113228| 15602|\n",
            "|      4|0114885| 31357|\n",
            "|      5|0113041| 11862|\n",
            "+-------+-------+------+\n",
            "only showing top 5 rows\n",
            "\n"
          ]
        },
        {
          "output_type": "display_data",
          "data": {
            "text/plain": [
              "DataFrame[movieId: string, imdbId: string, tmdbId: string]"
            ]
          },
          "metadata": {}
        }
      ],
      "source": [
        "links_df.show(5)\n",
        "links_df.createOrReplaceTempView(\"links_df\")                                    #links table first 5 rows\n",
        "display (spark.sql(\"SELECT * FROM links_df limit 5\"))"
      ]
    },
    {
      "cell_type": "code",
      "execution_count": 120,
      "id": "5a514535",
      "metadata": {
        "colab": {
          "base_uri": "https://localhost:8080/"
        },
        "id": "5a514535",
        "outputId": "31766264-675a-4245-dee7-8ee6ace7f2b4"
      },
      "outputs": [
        {
          "output_type": "stream",
          "name": "stdout",
          "text": [
            "For the users that rated movies and the movies that were rated:\n",
            "Minimum number of ratings per user is 20\n",
            "Minimum number of ratings per movie is 1\n"
          ]
        }
      ],
      "source": [
        "tmp1 = ratings_df.groupBy(\"userID\").count().toPandas()['count'].min()\n",
        "tmp2 = ratings_df.groupBy(\"movieId\").count().toPandas()['count'].min()\n",
        "print('For the users that rated movies and the movies that were rated:')\n",
        "print('Minimum number of ratings per user is {}'.format(tmp1))\n",
        "print('Minimum number of ratings per movie is {}'.format(tmp2))"
      ]
    },
    {
      "cell_type": "code",
      "execution_count": 22,
      "id": "8a080eca",
      "metadata": {
        "colab": {
          "base_uri": "https://localhost:8080/"
        },
        "id": "8a080eca",
        "outputId": "5a659938-f1b8-44c4-c100-7e355333619c"
      },
      "outputs": [
        {
          "output_type": "stream",
          "name": "stdout",
          "text": [
            "2808 out of 8552 movies are rated by only one user\n"
          ]
        }
      ],
      "source": [
        "tmp1 = sum(ratings_df.groupBy(\"movieId\").count().toPandas()['count'] == 1)\n",
        "tmp2 = ratings_df.select('movieId').distinct().count()\n",
        "print('{} out of {} movies are rated by only one user'.format(tmp1, tmp2))"
      ]
    },
    {
      "cell_type": "code",
      "execution_count": 121,
      "id": "6b1ce301",
      "metadata": {
        "colab": {
          "base_uri": "https://localhost:8080/"
        },
        "id": "6b1ce301",
        "outputId": "c410477f-c334-4301-84c8-7463580a0c0f"
      },
      "outputs": [
        {
          "output_type": "stream",
          "name": "stderr",
          "text": [
            "/usr/local/lib/python3.7/dist-packages/pyspark/sql/context.py:79: FutureWarning: Deprecated in 3.0.0. Use SparkSession.builder.getOrCreate() instead.\n",
            "  FutureWarning\n"
          ]
        }
      ],
      "source": [
        "sc = spark.sparkContext\n",
        "sqlContext=SQLContext(sc)"
      ]
    },
    {
      "cell_type": "code",
      "execution_count": 125,
      "id": "3a8ac30a",
      "metadata": {
        "colab": {
          "base_uri": "https://localhost:8080/"
        },
        "id": "3a8ac30a",
        "outputId": "bd0009be-615a-41aa-d603-8e060f1d03c7"
      },
      "outputs": [
        {
          "output_type": "stream",
          "name": "stdout",
          "text": [
            "root\n",
            " |-- userId: integer (nullable = true)\n",
            " |-- movieId: integer (nullable = true)\n",
            " |-- rating: double (nullable = true)\n",
            " |-- timestamp: integer (nullable = true)\n",
            "\n"
          ]
        }
      ],
      "source": [
        "ratings_df=spark.read.csv(\"ratings.txt\",inferSchema=True,header=True) #columns value types in ratings table\n",
        "ratings_df.printSchema()"
      ]
    },
    {
      "cell_type": "code",
      "execution_count": 126,
      "id": "3240398a",
      "metadata": {
        "colab": {
          "base_uri": "https://localhost:8080/"
        },
        "id": "3240398a",
        "outputId": "21c4c00b-14fa-49e6-e920-6b598ae1bcfd"
      },
      "outputs": [
        {
          "output_type": "stream",
          "name": "stdout",
          "text": [
            "+------+-------+------+---------+\n",
            "|userId|movieId|rating|timestamp|\n",
            "+------+-------+------+---------+\n",
            "|     1|      6|   2.0|980730861|\n",
            "|     1|     22|   3.0|980731380|\n",
            "|     1|     32|   2.0|980731926|\n",
            "|     1|     50|   5.0|980732037|\n",
            "|     1|    110|   4.0|980730408|\n",
            "|     1|    164|   3.0|980731766|\n",
            "|     1|    198|   3.0|980731282|\n",
            "|     1|    260|   5.0|980730769|\n",
            "|     1|    296|   4.0|980731208|\n",
            "|     1|    303|   3.0|980732235|\n",
            "|     1|    318|   3.0|980731417|\n",
            "|     1|    350|   3.0|980731745|\n",
            "|     1|    366|   2.0|980731621|\n",
            "|     1|    367|   4.0|980731380|\n",
            "|     1|    431|   2.0|980731312|\n",
            "|     1|    432|   2.0|980732235|\n",
            "|     1|    451|   1.0|980731789|\n",
            "|     1|    457|   4.0|980730816|\n",
            "|     1|    474|   3.0|980730816|\n",
            "|     1|    480|   4.0|980731903|\n",
            "+------+-------+------+---------+\n",
            "only showing top 20 rows\n",
            "\n"
          ]
        }
      ],
      "source": [
        "ratings_df.show()                           #taking ratings table"
      ]
    },
    {
      "cell_type": "code",
      "execution_count": 127,
      "id": "f6259138",
      "metadata": {
        "colab": {
          "base_uri": "https://localhost:8080/"
        },
        "id": "f6259138",
        "outputId": "3b8785e1-bfcb-493a-cc56-2f5480590d9f"
      },
      "outputs": [
        {
          "output_type": "stream",
          "name": "stdout",
          "text": [
            "root\n",
            " |-- movieId: integer (nullable = true)\n",
            " |-- title: string (nullable = true)\n",
            " |-- year: string (nullable = true)\n",
            " |-- genres: string (nullable = true)\n",
            "\n"
          ]
        }
      ],
      "source": [
        "movies_df=spark.read.csv('movies.txt',inferSchema=True,header=True)  #columns value types \n",
        "movies_df.printSchema()"
      ]
    },
    {
      "cell_type": "code",
      "execution_count": 128,
      "id": "37db0600",
      "metadata": {
        "colab": {
          "base_uri": "https://localhost:8080/"
        },
        "id": "37db0600",
        "outputId": "c0762f9f-79f3-4d61-b699-e40a8546ac13"
      },
      "outputs": [
        {
          "output_type": "stream",
          "name": "stdout",
          "text": [
            "+-------+--------------------+----+--------------------+\n",
            "|movieId|               title|year|              genres|\n",
            "+-------+--------------------+----+--------------------+\n",
            "|      1|           Toy Story|1995|Adventure|Animati...|\n",
            "|      2|             Jumanji|1995|Adventure|Childre...|\n",
            "|      3|    Grumpier Old Men|1995|      Comedy|Romance|\n",
            "|      4|   Waiting to Exhale|1995|Comedy|Drama|Romance|\n",
            "|      5|Father of the Bri...|1995|              Comedy|\n",
            "|      6|                Heat|1995|Action|Crime|Thri...|\n",
            "|      7|             Sabrina|1995|      Comedy|Romance|\n",
            "|      8|        Tom and Huck|1995|  Adventure|Children|\n",
            "|      9|        Sudden Death|1995|              Action|\n",
            "|     10|           GoldenEye|1995|Action|Adventure|...|\n",
            "|     11|American Presiden...|1995|Comedy|Drama|Romance|\n",
            "|     12|Dracula: Dead and...|1995|       Comedy|Horror|\n",
            "|     13|               Balto|1995|Adventure|Animati...|\n",
            "|     14|               Nixon|1995|               Drama|\n",
            "|     15|    Cutthroat Island|1995|Action|Adventure|...|\n",
            "|     16|              Casino|1995|         Crime|Drama|\n",
            "|     17|Sense and Sensibi...|1995|       Drama|Romance|\n",
            "|     18|          Four Rooms|1995|              Comedy|\n",
            "|     19|Ace Ventura: When...|1995|              Comedy|\n",
            "|     20|         Money Train|1995|Action|Comedy|Cri...|\n",
            "+-------+--------------------+----+--------------------+\n",
            "only showing top 20 rows\n",
            "\n"
          ]
        }
      ],
      "source": [
        "movies_df.show()"
      ]
    },
    {
      "cell_type": "code",
      "execution_count": 131,
      "id": "235aa17f",
      "metadata": {
        "colab": {
          "base_uri": "https://localhost:8080/"
        },
        "id": "235aa17f",
        "outputId": "e2718b9e-b011-43a4-e092-420955afe66a"
      },
      "outputs": [
        {
          "output_type": "stream",
          "name": "stdout",
          "text": [
            "root\n",
            " |-- movieId: integer (nullable = true)\n",
            " |-- imdbId: integer (nullable = true)\n",
            " |-- tmdbId: integer (nullable = true)\n",
            "\n"
          ]
        }
      ],
      "source": [
        "links_df=spark.read.csv('links.txt',inferSchema=True,header=True)\n",
        "links_df.printSchema()"
      ]
    },
    {
      "cell_type": "markdown",
      "source": [
        "DATA TRAIN TEST SPLIT"
      ],
      "metadata": {
        "id": "rAw8I-ajah-D"
      },
      "id": "rAw8I-ajah-D"
    },
    {
      "cell_type": "code",
      "execution_count": 132,
      "id": "60c0f8dc",
      "metadata": {
        "id": "60c0f8dc"
      },
      "outputs": [],
      "source": [
        "training_df,validation_df = ratings_df.randomSplit([0.8,0.2])  #split to data for train and test"
      ]
    },
    {
      "cell_type": "code",
      "execution_count": 133,
      "id": "bea631a0",
      "metadata": {
        "id": "bea631a0"
      },
      "outputs": [],
      "source": [
        "iterations=10                                                 #model parameters \n",
        "regularization_parameter=0.1\n",
        "rank=4\n",
        "error=[]\n",
        "err=0"
      ]
    },
    {
      "cell_type": "markdown",
      "source": [
        "ALTERNATING LEAST SQUARES RECOMMENDED MODEL"
      ],
      "metadata": {
        "id": "TcmYQGHgaypT"
      },
      "id": "TcmYQGHgaypT"
    },
    {
      "cell_type": "code",
      "execution_count": 134,
      "id": "e8fe89d8",
      "metadata": {
        "colab": {
          "base_uri": "https://localhost:8080/"
        },
        "id": "e8fe89d8",
        "outputId": "adc98b99-869e-4820-9e7e-7dc2b97a5402"
      },
      "outputs": [
        {
          "output_type": "stream",
          "name": "stdout",
          "text": [
            "Root Mean Square Error= 0.9390473765159149\n"
          ]
        }
      ],
      "source": [
        "#I used ALS recommended model for my data Alternating Least squares method\n",
        "als = ALS(maxIter=iterations,regParam=regularization_parameter,rank=5,userCol=\"userId\",itemCol=\"movieId\",ratingCol=\"rating\")\n",
        "\n",
        "model = als.fit(training_df)                         #training data trained by als model\n",
        "\n",
        "predictions = model.transform(validation_df)         #and tested model with test data\n",
        "\n",
        "new_predictions = predictions.filter(col('prediction')!=np.nan)\n",
        "\n",
        "evaluator = RegressionEvaluator(metricName=\"rmse\",labelCol=\"rating\",predictionCol=\"prediction\") \n",
        "                                                      #we look root mean square error for regression model \n",
        "rmse = evaluator.evaluate(new_predictions)\n",
        "\n",
        "print(\"Root Mean Square Error= \"+str(rmse))           #taking perfect  RMSE scores "
      ]
    },
    {
      "cell_type": "code",
      "execution_count": 135,
      "id": "31987103",
      "metadata": {
        "colab": {
          "base_uri": "https://localhost:8080/"
        },
        "id": "31987103",
        "outputId": "96e40fca-9455-442c-ae31-a9a8574051a0"
      },
      "outputs": [
        {
          "output_type": "stream",
          "name": "stdout",
          "text": [
            "Root Mean Square Error= 0.9372678988760661\n",
            "Root Mean Square Error= 0.9390473765159146\n",
            "Root Mean Square Error= 0.9388196042742588\n",
            "Root Mean Square Error= 0.9439639521307659\n",
            "Root Mean Square Error= 0.9401075667945087\n",
            "Root Mean Square Error= 0.9419780113792817\n"
          ]
        }
      ],
      "source": [
        "for rank in range(4,10):\n",
        "    als = ALS(maxIter=iterations,regParam=regularization_parameter,rank=rank,userCol=\"userId\",itemCol=\"movieId\",ratingCol=\"rating\")\n",
        "    model = als.fit(training_df)\n",
        "    predictions = model.transform(validation_df)\n",
        "    new_predictions = predictions.filter(col('prediction')!=np.nan)\n",
        "    evaluator = RegressionEvaluator(metricName=\"rmse\",labelCol=\"rating\",predictionCol=\"prediction\")\n",
        "    rmse = evaluator.evaluate(new_predictions)\n",
        "    print(\"Root Mean Square Error= \"+str(rmse))               "
      ]
    },
    {
      "cell_type": "code",
      "source": [
        "predictions.show(10)"
      ],
      "metadata": {
        "colab": {
          "base_uri": "https://localhost:8080/"
        },
        "id": "OEylBX5vKBlh",
        "outputId": "109c2538-55aa-4098-96df-84463d683019"
      },
      "id": "OEylBX5vKBlh",
      "execution_count": 153,
      "outputs": [
        {
          "output_type": "stream",
          "name": "stdout",
          "text": [
            "+------+-------+------+---------+----------+\n",
            "|userId|movieId|rating|timestamp|prediction|\n",
            "+------+-------+------+---------+----------+\n",
            "|     1|    858|   5.0|980730742|  3.747875|\n",
            "|     1|    451|   1.0|980731789|       NaN|\n",
            "|     1|   1201|   4.0|980730742|  3.290426|\n",
            "|     1|   1034|   3.0|980731208| 2.7763813|\n",
            "|     1|     22|   3.0|980731380| 3.1554518|\n",
            "|     1|   1197|   4.0|980730769| 3.8877766|\n",
            "|     1|    590|   2.0|980732165|   3.03294|\n",
            "|     1|    457|   4.0|980730816| 3.7875729|\n",
            "|     1|    608|   5.0|980732037|  3.138443|\n",
            "|     1|    996|   2.0|980732235| 2.7168202|\n",
            "+------+-------+------+---------+----------+\n",
            "only showing top 10 rows\n",
            "\n"
          ]
        }
      ]
    },
    {
      "cell_type": "code",
      "execution_count": 33,
      "id": "fed2567a",
      "metadata": {
        "id": "fed2567a"
      },
      "outputs": [],
      "source": [
        "from pyspark.ml.tuning import *"
      ]
    },
    {
      "cell_type": "code",
      "execution_count": 136,
      "id": "4ae1ee1b",
      "metadata": {
        "id": "4ae1ee1b"
      },
      "outputs": [],
      "source": [
        "from pyspark.ml.tuning import ParamGridBuilder\n",
        "#Grid Search and cross validation for our model  \n",
        "als1 = ALS(maxIter=iterations,regParam=regularization_parameter,rank=rank,userCol=\"userId\",itemCol=\"movieId\",ratingCol=\"rating\")\n",
        "paramGrid = ParamGridBuilder()\\\n",
        ".addGrid(als1.regParam,[0.1,0.01,0.18])\\\n",
        ".addGrid(als1.rank,range(4,10))\\\n",
        ".build()\n",
        "evaluator=RegressionEvaluator(metricName=\"rmse\",labelCol=\"rating\",predictionCol=\"prediction\")\n",
        "crossval=CrossValidator(estimator=als1,estimatorParamMaps=paramGrid,evaluator=evaluator,numFolds=5)\n",
        "cvModel=crossval.fit(training_df)"
      ]
    },
    {
      "cell_type": "code",
      "source": [
        "CV_Pred = cvModel.transform(validation_df)\n",
        "new_prediction = CV_Pred.filter(col('prediction')!=np.nan)\n",
        "\n",
        "evaluator = RegressionEvaluator(metricName=\"r2\",labelCol=\"rating\",predictionCol=\"prediction\")\n",
        "evaluator_rmse = RegressionEvaluator(metricName=\"rmse\",labelCol=\"rating\",predictionCol=\"prediction\")\n",
        "\n",
        "rsquare = evaluator_rmse.evaluate(new_prediction)\n",
        "rmse = evaluator.evaluate(new_prediction)\n",
        "print(\"r2= \"+str(rsquare)) #I took r2 and rmse scores   \n",
        "print(\"rmse= \"+str(rmse))  #rmse score is perfect but r2 is explane:This data not \n",
        "                           #suitable for prediction but we are working on recommendation staff so it is not important"
      ],
      "metadata": {
        "colab": {
          "base_uri": "https://localhost:8080/"
        },
        "id": "wT9tO-jgERrP",
        "outputId": "cf87133d-ae3a-44bc-cbe5-61c82dd358dd"
      },
      "id": "wT9tO-jgERrP",
      "execution_count": 147,
      "outputs": [
        {
          "output_type": "stream",
          "name": "stdout",
          "text": [
            "r2= 0.9372678988760661\n",
            "rmse= 0.21520010750095808\n"
          ]
        }
      ]
    },
    {
      "cell_type": "code",
      "source": [
        "CV_Pred.show(10)"
      ],
      "metadata": {
        "colab": {
          "base_uri": "https://localhost:8080/"
        },
        "id": "hOF9UDH4Fhma",
        "outputId": "60030cda-015c-4361-afc3-63662aa86b94"
      },
      "id": "hOF9UDH4Fhma",
      "execution_count": 152,
      "outputs": [
        {
          "output_type": "stream",
          "name": "stdout",
          "text": [
            "+------+-------+------+---------+----------+\n",
            "|userId|movieId|rating|timestamp|prediction|\n",
            "+------+-------+------+---------+----------+\n",
            "|     1|    858|   5.0|980730742|  3.779253|\n",
            "|     1|    451|   1.0|980731789|       NaN|\n",
            "|     1|   1201|   4.0|980730742| 3.2785628|\n",
            "|     1|   1034|   3.0|980731208|  3.267778|\n",
            "|     1|     22|   3.0|980731380| 3.0015154|\n",
            "|     1|   1197|   4.0|980730769|  3.917275|\n",
            "|     1|    590|   2.0|980732165| 3.2255154|\n",
            "|     1|    457|   4.0|980730816| 3.8312576|\n",
            "|     1|    608|   5.0|980732037| 3.2846289|\n",
            "|     1|    996|   2.0|980732235| 2.8194199|\n",
            "+------+-------+------+---------+----------+\n",
            "only showing top 10 rows\n",
            "\n"
          ]
        }
      ]
    },
    {
      "cell_type": "code",
      "execution_count": 154,
      "id": "6c81fb05",
      "metadata": {
        "colab": {
          "base_uri": "https://localhost:8080/"
        },
        "id": "6c81fb05",
        "outputId": "d331855c-25a8-479d-f5e8-70bb59134571"
      },
      "outputs": [
        {
          "output_type": "stream",
          "name": "stdout",
          "text": [
            "+------+--------------------+--------------------+----------+\n",
            "|userId|               title|              genres|prediction|\n",
            "+------+--------------------+--------------------+----------+\n",
            "|    31|American Tail: Fi...|Adventure|Animati...| 2.1850998|\n",
            "|    31|Land Before Time,...|Adventure|Animati...| 2.4595604|\n",
            "|   516|Devil's Advocate,...|Drama|Mystery|Thr...| 2.8890162|\n",
            "|   516|                  10|      Comedy|Romance| 2.1996143|\n",
            "|    85|   American Splendor|        Comedy|Drama|  4.577711|\n",
            "|    53|        Galaxy Quest|Adventure|Comedy|...| 3.1859865|\n",
            "|   481|Men in Black (a.k...|Action|Comedy|Sci-Fi|  3.894961|\n",
            "|   633|Men in Black (a.k...|Action|Comedy|Sci-Fi| 2.4802399|\n",
            "|   597|       Out of Africa|       Drama|Romance|   4.02375|\n",
            "|   155|Hellbound: Hellra...|              Horror|  3.100603|\n",
            "|   193|Hudsucker Proxy, The|              Comedy|   4.20068|\n",
            "|   126|       Dirty Dancing|Drama|Musical|Rom...| 3.7039447|\n",
            "|   183|Men in Black (a.k...|Action|Comedy|Sci-Fi| 3.3027043|\n",
            "|   210|               Spawn|Action|Adventure|...|  2.426955|\n",
            "|   210|Children of the Corn|     Horror|Thriller| 3.1096544|\n",
            "+------+--------------------+--------------------+----------+\n",
            "only showing top 15 rows\n",
            "\n"
          ]
        }
      ],
      "source": [
        "predictions.join(movies_df,\"movieId\").select(\"userId\",\"title\",\"genres\",\"prediction\").show(15)"
      ]
    },
    {
      "cell_type": "code",
      "execution_count": 155,
      "id": "9c5577df",
      "metadata": {
        "colab": {
          "base_uri": "https://localhost:8080/"
        },
        "id": "9c5577df",
        "outputId": "a1882684-33ae-435e-8506-5f5711ba009c"
      },
      "outputs": [
        {
          "output_type": "stream",
          "name": "stdout",
          "text": [
            "+------+--------------------+--------------------+------+----------+\n",
            "|userId|               title|              genres|tmdbId|prediction|\n",
            "+------+--------------------+--------------------+------+----------+\n",
            "|   599|        Strange Days|Action|Crime|Dram...|   281| 3.7138426|\n",
            "|   599|Clear and Present...|Action|Crime|Dram...|  9331|  3.656493|\n",
            "|   599|        True Romance|      Crime|Thriller|   319| 4.0647445|\n",
            "|   599|              Eraser|Action|Drama|Thri...|  9268| 2.8951352|\n",
            "|   599|    Army of Darkness|Action|Adventure|...|   766|  4.067372|\n",
            "+------+--------------------+--------------------+------+----------+\n",
            "only showing top 5 rows\n",
            "\n"
          ]
        }
      ],
      "source": [
        "for_one_user = predictions.filter(col(\"userId\")==599).join(movies_df,\"movieId\").join(links_df,\"movieId\").select(\"userId\",\"title\",\"genres\",\"tmdbId\",\"prediction\")\n",
        "for_one_user.show(5)"
      ]
    },
    {
      "cell_type": "code",
      "execution_count": 156,
      "id": "eb3eef5e",
      "metadata": {
        "colab": {
          "base_uri": "https://localhost:8080/"
        },
        "id": "eb3eef5e",
        "outputId": "43448ed0-69c9-442f-cfc2-0200a7a6d248"
      },
      "outputs": [
        {
          "output_type": "stream",
          "name": "stdout",
          "text": [
            "Replacement Killers, The\n",
            "Army of Darkness\n",
            "Ronin\n",
            "True Romance\n",
            "Eraser\n"
          ]
        }
      ],
      "source": [
        "import webbrowser \n",
        "link=\"https://www.themoviedb.org/movie/\"           #I get movie titles\n",
        "for movie in for_one_user.take(5):\n",
        "    movieURL=link+str(movie.tmdbId)\n",
        "    print(movie.title)\n",
        "    webbrowser.open(movieURL)"
      ]
    },
    {
      "cell_type": "code",
      "execution_count": 157,
      "id": "5814788e",
      "metadata": {
        "colab": {
          "base_uri": "https://localhost:8080/"
        },
        "id": "5814788e",
        "outputId": "34b5e309-6f8d-485c-d6c8-ae5f5df09ffa"
      },
      "outputs": [
        {
          "output_type": "stream",
          "name": "stderr",
          "text": [
            "/usr/local/lib/python3.7/dist-packages/pyspark/sql/context.py:127: FutureWarning: Deprecated in 3.0.0. Use SparkSession.builder.getOrCreate() instead.\n",
            "  FutureWarning\n"
          ]
        }
      ],
      "source": [
        "userRecommends=model.recommendForAllUsers(5)\n",
        "movieRecommends=model.recommendForAllItems(5)"
      ]
    },
    {
      "cell_type": "code",
      "execution_count": 158,
      "id": "c0fadc3d",
      "metadata": {
        "colab": {
          "base_uri": "https://localhost:8080/"
        },
        "id": "c0fadc3d",
        "outputId": "9aa7a6c1-85b7-4dbd-f8d1-b5c9924eb777"
      },
      "outputs": [
        {
          "output_type": "stream",
          "name": "stdout",
          "text": [
            "root\n",
            " |-- userId: integer (nullable = false)\n",
            " |-- recommendations: array (nullable = true)\n",
            " |    |-- element: struct (containsNull = true)\n",
            " |    |    |-- movieId: integer (nullable = true)\n",
            " |    |    |-- rating: float (nullable = true)\n",
            "\n"
          ]
        }
      ],
      "source": [
        "userRecommends.printSchema()"
      ]
    },
    {
      "cell_type": "code",
      "source": [
        "userRecommends.show(5)"
      ],
      "metadata": {
        "colab": {
          "base_uri": "https://localhost:8080/"
        },
        "id": "z3vV5DmwPi0Q",
        "outputId": "324267a2-09bf-409b-da5f-d472ba79667f"
      },
      "id": "z3vV5DmwPi0Q",
      "execution_count": 159,
      "outputs": [
        {
          "output_type": "stream",
          "name": "stdout",
          "text": [
            "+------+--------------------+\n",
            "|userId|     recommendations|\n",
            "+------+--------------------+\n",
            "|     1|[{2660, 4.57362},...|\n",
            "|     3|[{31116, 5.746894...|\n",
            "|     5|[{72605, 5.328123...|\n",
            "|     6|[{115170, 4.89595...|\n",
            "|     9|[{1216, 4.986879}...|\n",
            "+------+--------------------+\n",
            "only showing top 5 rows\n",
            "\n"
          ]
        }
      ]
    },
    {
      "cell_type": "code",
      "execution_count": 41,
      "id": "f4f189d4",
      "metadata": {
        "colab": {
          "base_uri": "https://localhost:8080/"
        },
        "id": "f4f189d4",
        "outputId": "91ac9187-f5e0-4473-f0e1-a3ae2676715c"
      },
      "outputs": [
        {
          "output_type": "stream",
          "name": "stdout",
          "text": [
            "+------+------------------------------------+\n",
            "|userId|movieId                             |\n",
            "+------+------------------------------------+\n",
            "|1     |[5294, 2649, 7088, 260, 1428]       |\n",
            "|3     |[2649, 1428, 5792, 1283, 1404]      |\n",
            "|5     |[71379, 3262, 3055, 493, 5613]      |\n",
            "|6     |[115170, 98243, 106841, 1238, 85056]|\n",
            "|9     |[8675, 7338, 2649, 83, 678]         |\n",
            "|12    |[2966, 123, 3161, 745, 53894]       |\n",
            "|13    |[8675, 7338, 7088, 7070, 106841]    |\n",
            "|15    |[7940, 1306, 1238, 2295, 3204]      |\n",
            "|16    |[27873, 3466, 7088, 4703, 4187]     |\n",
            "|17    |[963, 4675, 2398, 5264, 3784]       |\n",
            "+------+------------------------------------+\n",
            "only showing top 10 rows\n",
            "\n"
          ]
        }
      ],
      "source": [
        "userRecommends.select(\"userId\",\"recommendations.movieId\").show(10,False)  # I recommendations"
      ]
    },
    {
      "cell_type": "code",
      "source": [
        "movieRecommends.printSchema()"
      ],
      "metadata": {
        "colab": {
          "base_uri": "https://localhost:8080/"
        },
        "id": "YfE24QVR5CLc",
        "outputId": "bbb7526a-8582-4f39-b474-55253d3302cb"
      },
      "id": "YfE24QVR5CLc",
      "execution_count": 51,
      "outputs": [
        {
          "output_type": "stream",
          "name": "stdout",
          "text": [
            "root\n",
            " |-- movieId: integer (nullable = false)\n",
            " |-- recommendations: array (nullable = true)\n",
            " |    |-- element: struct (containsNull = true)\n",
            " |    |    |-- userId: integer (nullable = true)\n",
            " |    |    |-- rating: float (nullable = true)\n",
            "\n"
          ]
        }
      ]
    },
    {
      "cell_type": "code",
      "execution_count": 52,
      "id": "83af5e62",
      "metadata": {
        "colab": {
          "base_uri": "https://localhost:8080/"
        },
        "id": "83af5e62",
        "outputId": "18e30a17-1008-49c3-fe4c-a4ab839e1de0"
      },
      "outputs": [
        {
          "output_type": "stream",
          "name": "stdout",
          "text": [
            "+-------+-------------------------+\n",
            "|movieId|userId                   |\n",
            "+-------+-------------------------+\n",
            "|1      |[241, 268, 530, 444, 691]|\n",
            "|3      |[95, 452, 163, 124, 612] |\n",
            "|5      |[241, 530, 133, 479, 118]|\n",
            "|6      |[201, 530, 82, 306, 112] |\n",
            "|9      |[452, 675, 265, 612, 133]|\n",
            "|12     |[504, 675, 220, 480, 452]|\n",
            "|13     |[241, 268, 530, 133, 691]|\n",
            "|15     |[480, 504, 366, 249, 452]|\n",
            "|16     |[241, 530, 181, 334, 201]|\n",
            "|17     |[241, 334, 530, 181, 268]|\n",
            "+-------+-------------------------+\n",
            "only showing top 10 rows\n",
            "\n"
          ]
        }
      ],
      "source": [
        "movieRecommends.select(\"movieId\",\"recommendations.userId\").show(10,False)"
      ]
    },
    {
      "cell_type": "code",
      "source": [
        "users=ratings_df.select(\"userId\").distinct().limit(5)\n",
        "users.show()"
      ],
      "metadata": {
        "colab": {
          "base_uri": "https://localhost:8080/"
        },
        "id": "-gf9wvn55ZBm",
        "outputId": "c3f1beb3-88f1-40a0-b3a0-3b56c56c6af5"
      },
      "id": "-gf9wvn55ZBm",
      "execution_count": 53,
      "outputs": [
        {
          "output_type": "stream",
          "name": "stdout",
          "text": [
            "+------+\n",
            "|userId|\n",
            "+------+\n",
            "|   148|\n",
            "|   463|\n",
            "|   471|\n",
            "|   496|\n",
            "|   243|\n",
            "+------+\n",
            "\n"
          ]
        }
      ]
    },
    {
      "cell_type": "code",
      "source": [
        "userSubsetRecs = model.recommendForUserSubset(users,10)   \n",
        "userSubsetRecs.show()"
      ],
      "metadata": {
        "colab": {
          "base_uri": "https://localhost:8080/"
        },
        "id": "eQ20Mt3E5cPJ",
        "outputId": "7474c46a-d212-410a-ba5e-0fa346776ccd"
      },
      "id": "eQ20Mt3E5cPJ",
      "execution_count": 54,
      "outputs": [
        {
          "output_type": "stream",
          "name": "stderr",
          "text": [
            "/usr/local/lib/python3.7/dist-packages/pyspark/sql/context.py:127: FutureWarning: Deprecated in 3.0.0. Use SparkSession.builder.getOrCreate() instead.\n",
            "  FutureWarning\n"
          ]
        },
        {
          "output_type": "stream",
          "name": "stdout",
          "text": [
            "+------+--------------------+\n",
            "|userId|     recommendations|\n",
            "+------+--------------------+\n",
            "|   471|[{27873, 5.133694...|\n",
            "|   463|[{115170, 5.28641...|\n",
            "|   243|[{6669, 5.170791}...|\n",
            "|   496|[{37857, 5.92129}...|\n",
            "|   148|[{8675, 4.008882}...|\n",
            "+------+--------------------+\n",
            "\n"
          ]
        }
      ]
    },
    {
      "cell_type": "code",
      "source": [
        "userSubsetRecs.select(\"userId\",\"recommendations.movieId\").show(10,False) #recomendations movieIds for userIDs\n",
        "                                                                         #end it is done !!!!"
      ],
      "metadata": {
        "colab": {
          "base_uri": "https://localhost:8080/"
        },
        "id": "WKzUJg_r5hOd",
        "outputId": "8cd3a840-fd9b-404e-c197-49439e602056"
      },
      "id": "WKzUJg_r5hOd",
      "execution_count": 55,
      "outputs": [
        {
          "output_type": "stream",
          "name": "stdout",
          "text": [
            "+------+-------------------------------------------------------------------+\n",
            "|userId|movieId                                                            |\n",
            "+------+-------------------------------------------------------------------+\n",
            "|471   |[27873, 3466, 2810, 31193, 4187, 7088, 2083, 4703, 4873, 8477]     |\n",
            "|463   |[115170, 98243, 3598, 1414, 93721, 106696, 2810, 74754, 6645, 8477]|\n",
            "|243   |[6669, 27846, 2920, 26840, 6783, 6643, 8477, 53906, 5607, 26171]   |\n",
            "|496   |[37857, 31193, 4275, 4228, 1713, 1934, 2184, 5942, 4777, 531]      |\n",
            "|148   |[8675, 7338, 26840, 7070, 6669, 26171, 5607, 1104, 3550, 5899]     |\n",
            "+------+-------------------------------------------------------------------+\n",
            "\n"
          ]
        }
      ]
    },
    {
      "cell_type": "code",
      "source": [
        "movies=ratings_df.select(\"movieId\").distinct().limit(5)  #movieIds for recommeds Users\n",
        "movies.show()"
      ],
      "metadata": {
        "colab": {
          "base_uri": "https://localhost:8080/"
        },
        "id": "7oYTKaaF5kid",
        "outputId": "4ed4c57e-0ea7-4e76-876d-2a79d6c31c52"
      },
      "id": "7oYTKaaF5kid",
      "execution_count": 56,
      "outputs": [
        {
          "output_type": "stream",
          "name": "stdout",
          "text": [
            "+-------+\n",
            "|movieId|\n",
            "+-------+\n",
            "|   1580|\n",
            "|   1645|\n",
            "|    471|\n",
            "|   1088|\n",
            "|   2142|\n",
            "+-------+\n",
            "\n"
          ]
        }
      ]
    },
    {
      "cell_type": "code",
      "source": [
        "movieSubsetRecs = model.recommendForItemSubset(movies,10)\n",
        "movieSubsetRecs.select(\"movieId\",\"recommendations.userId\").show(10,False)"
      ],
      "metadata": {
        "colab": {
          "base_uri": "https://localhost:8080/"
        },
        "id": "kXc4JCoZ5nij",
        "outputId": "f9d258c5-980b-4be8-cba2-9c6f41396f13"
      },
      "id": "kXc4JCoZ5nij",
      "execution_count": 57,
      "outputs": [
        {
          "output_type": "stream",
          "name": "stderr",
          "text": [
            "/usr/local/lib/python3.7/dist-packages/pyspark/sql/context.py:127: FutureWarning: Deprecated in 3.0.0. Use SparkSession.builder.getOrCreate() instead.\n",
            "  FutureWarning\n"
          ]
        },
        {
          "output_type": "stream",
          "name": "stdout",
          "text": [
            "+-------+--------------------------------------------------+\n",
            "|movieId|userId                                            |\n",
            "+-------+--------------------------------------------------+\n",
            "|1580   |[241, 530, 265, 133, 452, 444, 268, 289, 124, 217]|\n",
            "|471    |[164, 185, 691, 289, 201, 111, 158, 538, 625, 458]|\n",
            "|2142   |[241, 452, 25, 594, 698, 265, 95, 124, 429, 41]   |\n",
            "|1645   |[452, 280, 124, 612, 241, 95, 265, 133, 217, 479] |\n",
            "|1088   |[241, 268, 472, 265, 530, 133, 3, 112, 283, 82]   |\n",
            "+-------+--------------------------------------------------+\n",
            "\n"
          ]
        }
      ]
    },
    {
      "cell_type": "code",
      "source": [
        "movie_ids=[1580,3175,2366,1590]  #model tried for new users\n",
        "user_ids=[543,543,543,543]\n",
        "new_user_preds=sqlContext.createDataFrame(zip(movie_ids,user_ids),schema=['movieId','userId'])\n",
        "new_predictions=model.transform(new_user_preds)\n",
        "new_predictions.show()"
      ],
      "metadata": {
        "colab": {
          "base_uri": "https://localhost:8080/"
        },
        "id": "IIdJFch15sJ3",
        "outputId": "6e68f545-ff9a-447e-cec6-4e6eae02f391"
      },
      "id": "IIdJFch15sJ3",
      "execution_count": 160,
      "outputs": [
        {
          "output_type": "stream",
          "name": "stdout",
          "text": [
            "+-------+------+----------+\n",
            "|movieId|userId|prediction|\n",
            "+-------+------+----------+\n",
            "|   1580|   543|  3.381722|\n",
            "|   3175|   543| 3.2734551|\n",
            "|   2366|   543| 2.8578584|\n",
            "|   1590|   543| 2.5245814|\n",
            "+-------+------+----------+\n",
            "\n"
          ]
        }
      ]
    }
  ],
  "metadata": {
    "kernelspec": {
      "display_name": "Python 3 (ipykernel)",
      "language": "python",
      "name": "python3"
    },
    "language_info": {
      "codemirror_mode": {
        "name": "ipython",
        "version": 3
      },
      "file_extension": ".py",
      "mimetype": "text/x-python",
      "name": "python",
      "nbconvert_exporter": "python",
      "pygments_lexer": "ipython3",
      "version": "3.9.7"
    },
    "colab": {
      "name": "Pyspark_Model_building_1.ipynb",
      "provenance": [],
      "collapsed_sections": []
    }
  },
  "nbformat": 4,
  "nbformat_minor": 5
}